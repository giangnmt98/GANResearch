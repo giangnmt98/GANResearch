{
 "cells": [
  {
   "cell_type": "code",
   "execution_count": 1,
   "metadata": {
    "id": "RxbGjMjUsFkz"
   },
   "outputs": [],
   "source": [
    "# %% --------------------------------------- Load Packages -------------------------------------------------------------\n",
    "import os\n",
    "import random\n",
    "import cv2\n",
    "import tensorflow as tf\n",
    "import numpy as np\n",
    "import matplotlib.pyplot as plt\n",
    "import tensorflow.keras.backend as K\n",
    "from tensorflow.keras import Model, Sequential\n",
    "from tensorflow.keras.initializers import RandomNormal\n",
    "from tensorflow.keras.layers import Input, Reshape, Dense, Dropout, \\\n",
    "    Activation, LeakyReLU, Conv2D, Conv2DTranspose, Embedding, \\\n",
    "    Concatenate, multiply, Flatten, BatchNormalization\n",
    "from tensorflow.keras.initializers import glorot_normal\n",
    "from tensorflow.keras.optimizers import Adam\n",
    "from sklearn.model_selection import train_test_split"
   ]
  },
  {
   "cell_type": "code",
   "execution_count": 2,
   "metadata": {
    "id": "P2lmXwJVSVD_"
   },
   "outputs": [],
   "source": [
    "import tensorflow as tf\n",
    "gpus = tf.config.experimental.list_physical_devices('GPU')\n",
    "tf.config.experimental.set_memory_growth(gpus[0], True)"
   ]
  },
  {
   "cell_type": "code",
   "execution_count": 4,
   "metadata": {
    "id": "KJeulSm7tQTS"
   },
   "outputs": [],
   "source": [
    "from tensorflow.keras import layers"
   ]
  },
  {
   "cell_type": "code",
   "execution_count": 3,
   "metadata": {
    "id": "vWCt66EvrjzT"
   },
   "outputs": [],
   "source": [
    "# %% ---------------------------------- Data Preparation ---------------------------------------------------------------\n",
    "def change_image_shape(images):\n",
    "    shape_tuple = images.shape\n",
    "    if len(shape_tuple) == 3:\n",
    "        images = images.reshape(-1, shape_tuple[-1], shape_tuple[-1], 1)\n",
    "    elif shape_tuple == 4 and shape_tuple[-1] > 3:\n",
    "        images = images.reshape(-1, shape_tuple[-1], shape_tuple[-1], shape_tuple[1])\n",
    "    return images"
   ]
  },
  {
   "cell_type": "code",
   "execution_count": null,
   "metadata": {
    "id": "Bf5w93bBv_OT",
    "colab": {
     "base_uri": "https://localhost:8080/"
    },
    "outputId": "3ce2e9ae-11c8-4f3c-b738-eccda1e69bf4"
   },
   "outputs": [
    {
     "output_type": "stream",
     "name": "stdout",
     "text": [
      "Downloading data from https://www.cs.toronto.edu/~kriz/cifar-10-python.tar.gz\n",
      "170498071/170498071 [==============================] - 4s 0us/step\n"
     ]
    }
   ],
   "source": [
    "######################## MNIST / CIFAR ##########################\n",
    "# # Load MNIST Fashion\n",
    "# from tensorflow.keras.datasets.fashion_mnist import load_data\n",
    "# # Load CIFAR-10\n",
    "from tensorflow.keras.datasets.cifar10 import load_data\n",
    "\n",
    "# # Load training set\n",
    "(x_train_raw, y_train_raw), (x_test_raw,y_test_raw) = load_data()\n",
    "x_train_raw = change_image_shape(x_train_raw)\n",
    "x_test_raw = change_image_shape(x_test_raw)\n",
    "\n",
    "y_train = y_train_raw.reshape(-1)\n",
    "y_test = y_test_raw.reshape(-1)\n",
    "\n",
    "######################## Preprocessing ##########################\n",
    "# Set channel\n",
    "channel = x_train_raw.shape[-1]\n",
    "\n",
    "# to 64 x 64 x channel\n",
    "x_train = np.ndarray(shape=(x_train_raw.shape[0], 64, 64, channel))\n",
    "x_test = np.ndarray(shape=(x_test_raw.shape[0], 64, 64, channel))\n",
    "\n",
    "for i in range(x_train.shape[0]):\n",
    "    x_train[i] = cv2.resize(x_train_raw[i], (64, 64)).reshape((64, 64, channel))\n",
    "\n",
    "for i in range(x_test.shape[0]):\n",
    "    x_test[i] = cv2.resize(x_test_raw[i], (64, 64)).reshape((64, 64, channel))\n",
    "\n",
    "# Create imbalanced version\n",
    "for c in range(1, 10):\n",
    "    x_train = np.vstack([x_train[y_train!=c], x_train[y_train==c][:100*c]])\n",
    "    y_train = np.append(y_train[y_train!=c], np.ones(100*c) * c)\n",
    "\n",
    "# Train test split, for autoencoder (actually, this step is redundant if we already have test set)\n",
    "# x_train, x_test, y_train, y_test = train_test_split(real, labels, test_size=0.3, shuffle=True, random_state=42)\n",
    "\n",
    "# It is suggested to use [-1, 1] input for GAN training\n",
    "x_train = (x_train.astype('float32') - 127.5) / 127.5\n",
    "x_test = (x_test.astype('float32') - 127.5) / 127.5\n",
    "\n",
    "# Get image size\n",
    "img_size = x_train[0].shape\n",
    "# Get number of classes\n",
    "n_classes = len(np.unique(y_train))"
   ]
  },
  {
   "cell_type": "code",
   "execution_count": null,
   "metadata": {
    "id": "nneQi0BnrhMO"
   },
   "outputs": [],
   "source": [
    "# %% --------------------------------------- Fix Seeds -----------------------------------------------------------------\n",
    "SEED = 42\n",
    "os.environ['PYTHONHASHSEED'] = str(SEED)\n",
    "random.seed(SEED)\n",
    "np.random.seed(SEED)\n",
    "tf.random.set_seed(SEED)\n",
    "weight_init = glorot_normal(seed=SEED)\n",
    "latent_dim=128"
   ]
  },
  {
   "cell_type": "code",
   "execution_count": null,
   "metadata": {
    "id": "5qY3FVxy5VWv"
   },
   "outputs": [],
   "source": [
    "# %% ---------------------------------- Hyperparameters ----------------------------------------------------------------\n",
    "\n",
    "optimizer = Adam(learning_rate=0.0002, beta_1=0.5, beta_2=0.9)\n",
    "# trainRatio === times(Train D) / times(Train G)\n",
    "trainRatio = 5"
   ]
  },
  {
   "cell_type": "code",
   "execution_count": null,
   "metadata": {
    "id": "BH0vrsCpsj7M"
   },
   "outputs": [],
   "source": [
    "# %% ---------------------------------- Models Setup -------------------------------------------------------------------\n",
    "# Build Generator/Decoder\n",
    "def decoder():\n",
    "    # weight initialization\n",
    "    init = RandomNormal(stddev=0.02)\n",
    "    noise_le = Input((latent_dim,))\n",
    "    decoder = layers.Dense(4*4*256)(noise_le)\n",
    "    decoder = layers.LeakyReLU(alpha=0.2)(decoder)\n",
    "\n",
    "    ## Size: 4 x 4 x 256\n",
    "    decoder = Reshape((4, 4, 256))(decoder)\n",
    "\n",
    "    ## Size: 8 x 8 x 128\n",
    "    decoder = Conv2DTranspose(filters=128,\n",
    "                        kernel_size=(4, 4),\n",
    "                        strides=(2, 2),\n",
    "                        padding='same',\n",
    "                        kernel_initializer=init)(decoder)\n",
    "    decoder = BatchNormalization()(decoder)\n",
    "    decoder = LeakyReLU(0.2)(decoder)\n",
    "\n",
    "    ## Size: 16 x 16 x 128\n",
    "    decoder = Conv2DTranspose(128, (4, 4), strides=(2, 2), padding='same', kernel_initializer=init)(decoder)\n",
    "    decoder = BatchNormalization()(decoder)\n",
    "    decoder = LeakyReLU(0.2)(decoder)\n",
    "\n",
    "    ## Size: 32 x 32 x 64\n",
    "    decoder = Conv2DTranspose(64, (4, 4), strides=(2, 2), padding='same', kernel_initializer=init)(decoder)\n",
    "    decoder = BatchNormalization()(decoder)\n",
    "    decoder = LeakyReLU(0.2)(decoder)\n",
    "\n",
    "    ## Size: 64 x 64 x 3\n",
    "    generated = Conv2DTranspose(channel, (4, 4), strides=(2, 2), padding='same', activation='tanh', kernel_initializer=init)(decoder)\n",
    "\n",
    "\n",
    "    generator = Model(inputs=noise_le, outputs=generated)\n",
    "    return generator\n",
    "\n",
    "# Build Encoder\n",
    "def encoder():\n",
    "    # weight initialization\n",
    "    init = RandomNormal(stddev=0.02)\n",
    "\n",
    "    encoder_inputs = Input(img_size)\n",
    "\n",
    "    encoder = Conv2D(64, kernel_size=(4, 4), strides=(2, 2), padding='same', kernel_initializer=init)(encoder_inputs)\n",
    "    # x = LayerNormalization()(x) # It is not suggested to use BN in Discriminator of WGAN\n",
    "    encoder = LeakyReLU(0.2)(encoder)\n",
    "    # x = Dropout(0.3)(x)\n",
    "\n",
    "    encoder = Conv2D(128, (4, 4), strides=(2, 2), padding='same', kernel_initializer=init)(encoder)\n",
    "    # x = LayerNormalization()(x)\n",
    "    encoder = LeakyReLU(0.2)(encoder)\n",
    "    # x = Dropout(0.3)(x)\n",
    "\n",
    "    encoder = Conv2D(128, (4, 4), strides=(2, 2), padding='same', kernel_initializer=init)(encoder)\n",
    "    # x = LayerNormalization()(x)\n",
    "    encoder = LeakyReLU(0.2)(encoder)\n",
    "    # x = Dropout(0.3)(x)\n",
    "\n",
    "    encoder = Conv2D(256, (4, 4), strides=(2, 2), padding='same', kernel_initializer=init)(encoder)\n",
    "    # x = LayerNormalization()(x)\n",
    "    encoder = LeakyReLU(0.2)(encoder)\n",
    "    # x = Dropout(0.3)(x)\n",
    "\n",
    "    # 4 x 4 x 256\n",
    "    feature = Flatten()(encoder)\n",
    "\n",
    "    feature = Dense(latent_dim)(feature)\n",
    "    encoder_outputs = LeakyReLU(0.2)(feature)\n",
    "\n",
    "    # Lấy mean và log variance từ encoder_outputs\n",
    "    z_mean = layers.Dense(latent_dim)(encoder_outputs)\n",
    "    z_log_var = layers.Dense(latent_dim)(encoder_outputs)\n",
    "\n",
    "    # Lấy mẫu từ phân phối Gaussian\n",
    "    def sampling(args):\n",
    "        z_mean, z_log_var = args\n",
    "        epsilon = tf.keras.backend.random_normal(shape=(tf.keras.backend.shape(z_mean)[0], latent_dim), mean=0.0, stddev=1.0)\n",
    "        return z_mean + tf.keras.backend.exp(0.5 * z_log_var) * epsilon\n",
    "\n",
    "    z = layers.Lambda(sampling)([z_mean, z_log_var])\n",
    "\n",
    "    model = Model(inputs=encoder_inputs, outputs=z)\n",
    "    return model"
   ]
  },
  {
   "cell_type": "code",
   "execution_count": null,
   "metadata": {
    "id": "sAh3m-_Xy2cU"
   },
   "outputs": [],
   "source": [
    "def embedding_labeled_latent():\n",
    "  \"\"\"\n",
    "  Returns a model that embeds a label into a latent space.\n",
    "\n",
    "  Args:\n",
    "    latent_dim: The dimension of the latent space.\n",
    "    n_classes: The number of classes in the dataset.\n",
    "\n",
    "  Returns:\n",
    "    A TensorFlow model.\n",
    "  \"\"\"\n",
    "\n",
    "  # Weight initialization.\n",
    "  init = tf.random_normal_initializer(stddev=0.02)\n",
    "\n",
    "  # Input layers.\n",
    "  label = tf.keras.Input((1,), dtype='int32')\n",
    "  noise = tf.keras.Input((latent_dim,), dtype='float32')\n",
    "\n",
    "  # Embedding layer.\n",
    "  le = tf.keras.layers.Embedding(n_classes, latent_dim, embeddings_initializer=init)(label)\n",
    "  le = tf.keras.layers.Flatten()(le)\n",
    "\n",
    "  # Multiply layer.\n",
    "  noise_le = tf.keras.layers.Multiply()([noise, le])\n",
    "\n",
    "  # Model.\n",
    "  model = tf.keras.Model([noise, label], noise_le)\n",
    "\n",
    "  return model"
   ]
  },
  {
   "cell_type": "code",
   "execution_count": null,
   "metadata": {
    "id": "TPsw7Jg5vThT"
   },
   "outputs": [],
   "source": [
    "# Train Autoencoder\n",
    "en = encoder()\n",
    "de = decoder()\n",
    "em = embedding_labeled_latent()\n",
    "\n",
    "label = Input((1,), dtype='int32')\n",
    "img = Input(img_size)\n",
    "latent_z = en(img)\n",
    "labeled_latent = em([latent_z, label])\n",
    "\n",
    "rec_img = de(labeled_latent)\n",
    "vae = Model([img, label], rec_img)"
   ]
  },
  {
   "cell_type": "code",
   "execution_count": null,
   "metadata": {
    "id": "wgB-gESBx1ye"
   },
   "outputs": [],
   "source": [
    "vae.compile(optimizer=optimizer, loss='mae')\n",
    "\n",
    "vae.fit([x_train, y_train], x_train,\n",
    "       epochs=100,\n",
    "       batch_size=128,\n",
    "       shuffle=True,\n",
    "       verbose=True,\n",
    "       validation_data=([x_test, y_test], x_test))"
   ]
  },
  {
   "cell_type": "code",
   "execution_count": null,
   "metadata": {
    "id": "hBecv41YxCMf"
   },
   "outputs": [],
   "source": [
    "#Show results of reconstructed images\n",
    "decoded_imgs = vae.predict([x_test, y_test])\n",
    "n = n_classes\n",
    "plt.figure(figsize=(2*n, 4))\n",
    "decoded_imgs = decoded_imgs*0.5 + 0.5\n",
    "x_real = x_test*0.5 + 0.5\n",
    "for i in range(n):\n",
    "    # display original\n",
    "    ax = plt.subplot(2, n, i+1)\n",
    "    if channel == 3:\n",
    "        plt.imshow(x_real[y_test==i][0].reshape(64, 64, channel))\n",
    "    else:\n",
    "        plt.imshow(x_real[y_test==i][0].reshape(64, 64))\n",
    "        plt.gray()\n",
    "    ax.get_xaxis().set_visible(False)\n",
    "    ax.get_yaxis().set_visible(False)\n",
    "    # display reconstruction\n",
    "    ax = plt.subplot(2, n, i + n + 1)\n",
    "    if channel == 3:\n",
    "        plt.imshow(decoded_imgs[y_test==i][0].reshape(64, 64, channel))\n",
    "    else:\n",
    "        plt.imshow(decoded_imgs[y_test==i][0].reshape(64, 64))\n",
    "        plt.gray()\n",
    "    ax.get_xaxis().set_visible(False)\n",
    "    ax.get_yaxis().set_visible(False)\n",
    "plt.show()"
   ]
  },
  {
   "cell_type": "code",
   "execution_count": null,
   "metadata": {
    "id": "BDAoNga74PUd"
   },
   "outputs": [],
   "source": [
    "# Build Discriminator without inheriting the pre-trained Encoder\n",
    "# Similar to cWGAN\n",
    "def discriminator_cwgan():\n",
    "    # weight initialization\n",
    "    init = RandomNormal(stddev=0.02)\n",
    "\n",
    "    img = Input(img_size)\n",
    "    label = Input((1,), dtype='int32')\n",
    "\n",
    "\n",
    "    x = Conv2D(64, kernel_size=(4, 4), strides=(2, 2), padding='same', kernel_initializer=init)(img)\n",
    "    # x = LayerNormalization()(x) # It is not suggested to use BN in Discriminator of WGAN\n",
    "    x = LeakyReLU(0.2)(x)\n",
    "    # x = Dropout(0.3)(x)\n",
    "\n",
    "    x = Conv2D(128, (4, 4), strides=(2, 2), padding='same', kernel_initializer=init)(x)\n",
    "    # x = LayerNormalization()(x)\n",
    "    x = LeakyReLU(0.2)(x)\n",
    "    # x = Dropout(0.3)(x)\n",
    "\n",
    "    x = Conv2D(128, (4, 4), strides=(2, 2), padding='same', kernel_initializer=init)(x)\n",
    "    # x = LayerNormalization()(x)\n",
    "    x = LeakyReLU(0.2)(x)\n",
    "    # x = Dropout(0.3)(x)\n",
    "\n",
    "    x = Conv2D(256, (4, 4), strides=(2, 2), padding='same', kernel_initializer=init)(x)\n",
    "    # x = LayerNormalization()(x)\n",
    "    x = LeakyReLU(0.2)(x)\n",
    "    # x = Dropout(0.3)(x)\n",
    "\n",
    "    x = Flatten()(x)\n",
    "\n",
    "    le = Flatten()(Embedding(n_classes, 512)(label))\n",
    "    le = Dense(4 * 4 * 256)(le)\n",
    "    le = LeakyReLU(0.2)(le)\n",
    "    x_y = multiply([x, le])\n",
    "    x_y = Dense(512)(x_y)\n",
    "\n",
    "    out = Dense(1)(x_y)\n",
    "\n",
    "    model = Model(inputs=[img, label], outputs=out)\n",
    "\n",
    "    return model"
   ]
  },
  {
   "cell_type": "code",
   "execution_count": null,
   "metadata": {
    "id": "rdUqlX4H4dw5"
   },
   "outputs": [],
   "source": [
    "# %% ----------------------------------- BAGAN-GP Part -----------------------------------------------------------------\n",
    "# Refer to the WGAN-GP Architecture. https://github.com/keras-team/keras-io/blob/master/examples/generative/wgan_gp.py\n",
    "# Build our BAGAN-GP\n",
    "class BAGAN_GP(Model):\n",
    "    def __init__(\n",
    "        self,\n",
    "        discriminator,\n",
    "        generator,\n",
    "        latent_dim,\n",
    "        discriminator_extra_steps=3,\n",
    "        gp_weight=10.0,\n",
    "    ):\n",
    "        super(BAGAN_GP, self).__init__()\n",
    "        self.discriminator = discriminator\n",
    "        self.generator = generator\n",
    "        self.latent_dim = latent_dim\n",
    "        self.train_ratio = trainRatio\n",
    "        self.gp_weight = gp_weight\n",
    "\n",
    "    def compile(self, d_optimizer, g_optimizer, d_loss_fn, g_loss_fn):\n",
    "        super(BAGAN_GP, self).compile()\n",
    "        self.d_optimizer = d_optimizer\n",
    "        self.g_optimizer = g_optimizer\n",
    "        self.d_loss_fn = d_loss_fn\n",
    "        self.g_loss_fn = g_loss_fn\n",
    "\n",
    "    def gradient_penalty(self, batch_size, real_images, fake_images, labels):\n",
    "        \"\"\" Calculates the gradient penalty.\n",
    "\n",
    "        This loss is calculated on an interpolated image\n",
    "        and added to the discriminator loss.\n",
    "        \"\"\"\n",
    "        # get the interplated image\n",
    "        alpha = tf.random.normal([batch_size, 1, 1, 1], 0.0, 1.0)\n",
    "        diff = fake_images - real_images\n",
    "        interpolated = real_images + alpha * diff\n",
    "\n",
    "        with tf.GradientTape() as gp_tape:\n",
    "            gp_tape.watch(interpolated)\n",
    "            # 1. Get the discriminator output for this interpolated image.\n",
    "            pred = self.discriminator([interpolated, labels], training=True)\n",
    "\n",
    "        # 2. Calculate the gradients w.r.t to this interpolated image.\n",
    "        grads = gp_tape.gradient(pred, [interpolated])[0]\n",
    "        # 3. Calcuate the norm of the gradients\n",
    "        norm = tf.sqrt(tf.reduce_sum(tf.square(grads), axis=[1, 2, 3]))\n",
    "        gp = tf.reduce_mean((norm - 1.0) ** 2)\n",
    "        return gp\n",
    "\n",
    "    def train_step(self, data):\n",
    "        if isinstance(data, tuple):\n",
    "            real_images = data[0]\n",
    "            labels = data[1]\n",
    "\n",
    "        # Get the batch size\n",
    "        batch_size = tf.shape(real_images)[0]\n",
    "\n",
    "        ########################### Train the Discriminator ###########################\n",
    "        # For each batch, we are going to perform cwgan-like process\n",
    "        for i in range(self.train_ratio):\n",
    "            # Get the latent vector\n",
    "            random_latent_vectors = tf.random.normal(\n",
    "                shape=(batch_size, self.latent_dim)\n",
    "            )\n",
    "            fake_labels = tf.random.uniform((batch_size,), 0, n_classes)\n",
    "            wrong_labels = tf.random.uniform((batch_size,), 0, n_classes)\n",
    "            with tf.GradientTape() as tape:\n",
    "                # Generate fake images from the latent vector\n",
    "                fake_images = self.generator([random_latent_vectors, fake_labels], training=True)\n",
    "                # Get the logits for the fake images\n",
    "                fake_logits = self.discriminator([fake_images, fake_labels], training=True)\n",
    "                # Get the logits for real images\n",
    "                real_logits = self.discriminator([real_images, labels], training=True)\n",
    "                # Get the logits for wrong label classification\n",
    "                wrong_label_logits = self.discriminator([real_images, wrong_labels], training=True)\n",
    "\n",
    "                # Calculate discriminator loss using fake and real logits\n",
    "                d_cost = self.d_loss_fn(real_logits=real_logits, fake_logits=fake_logits,\n",
    "                                        wrong_label_logits=wrong_label_logits\n",
    "                                        )\n",
    "\n",
    "                # Calculate the gradient penalty\n",
    "                gp = self.gradient_penalty(batch_size, real_images, fake_images, labels)\n",
    "                # Add the gradient penalty to the original discriminator loss\n",
    "                d_loss = d_cost + gp * self.gp_weight\n",
    "\n",
    "            # Get the gradients w.r.t the discriminator loss\n",
    "            d_gradient = tape.gradient(d_loss, self.discriminator.trainable_variables)\n",
    "            # Update the weights of the discriminator using the discriminator optimizer\n",
    "            self.d_optimizer.apply_gradients(\n",
    "                zip(d_gradient, self.discriminator.trainable_variables)\n",
    "            )\n",
    "\n",
    "        ########################### Train the Generator ###########################\n",
    "        # Get the latent vector\n",
    "        random_latent_vectors = tf.random.normal(shape=(batch_size, self.latent_dim))\n",
    "        fake_labels = tf.random.uniform((batch_size,), 0, n_classes)\n",
    "        with tf.GradientTape() as tape:\n",
    "            # Generate fake images using the generator\n",
    "            generated_images = self.generator([random_latent_vectors, fake_labels], training=True)\n",
    "            # Get the discriminator logits for fake images\n",
    "            gen_img_logits = self.discriminator([generated_images, fake_labels], training=True)\n",
    "            # Calculate the generator loss\n",
    "            g_loss = self.g_loss_fn(gen_img_logits)\n",
    "\n",
    "        # Get the gradients w.r.t the generator loss\n",
    "        gen_gradient = tape.gradient(g_loss, self.generator.trainable_variables)\n",
    "        # Update the weights of the generator using the generator optimizer\n",
    "        self.g_optimizer.apply_gradients(\n",
    "            zip(gen_gradient, self.generator.trainable_variables)\n",
    "        )\n",
    "        return {\"d_loss\": d_loss, \"g_loss\": g_loss}"
   ]
  },
  {
   "cell_type": "code",
   "execution_count": null,
   "metadata": {
    "id": "e1--56bP4sUT"
   },
   "outputs": [],
   "source": [
    "# Optimizer for both the networks\n",
    "# learning_rate=0.0002, beta_1=0.5, beta_2=0.9 are recommended\n",
    "generator_optimizer = Adam(\n",
    "    learning_rate=0.0002, beta_1=0.5, beta_2=0.9\n",
    ")\n",
    "discriminator_optimizer = Adam(\n",
    "    learning_rate=0.0002, beta_1=0.5, beta_2=0.9\n",
    ")"
   ]
  },
  {
   "cell_type": "code",
   "execution_count": null,
   "metadata": {
    "id": "McLvBj01SVEC"
   },
   "outputs": [],
   "source": [
    "def lecam_reg(dis_real, dis_fake):\n",
    "    reg = tf.reduce_mean(tf.square(tf.nn.relu(dis_real - dis_fake))) + \\\n",
    "          tf.reduce_mean(tf.square(tf.nn.relu(dis_real - dis_fake)))\n",
    "    return reg"
   ]
  },
  {
   "cell_type": "code",
   "execution_count": null,
   "metadata": {
    "id": "9d1GOWGd4v-h"
   },
   "outputs": [],
   "source": [
    "# We refer to the DRAGAN loss function. https://github.com/kodalinaveen3/DRAGAN\n",
    "# Define the loss functions to be used for discrimiator\n",
    "# We will add the gradient penalty later to this loss function\n",
    "def discriminator_loss(real_logits, fake_logits, wrong_label_logits):\n",
    "    real_loss = tf.reduce_mean(\n",
    "        tf.nn.sigmoid_cross_entropy_with_logits(logits=real_logits, labels=tf.ones_like(real_logits)))\n",
    "    fake_loss = tf.reduce_mean(\n",
    "        tf.nn.sigmoid_cross_entropy_with_logits(logits=fake_logits, labels=tf.zeros_like(fake_logits)))\n",
    "    wrong_label_loss = tf.reduce_mean(\n",
    "        tf.nn.sigmoid_cross_entropy_with_logits(logits=wrong_label_logits, labels=tf.zeros_like(fake_logits)))\n",
    "    return wrong_label_loss + fake_loss + real_loss"
   ]
  },
  {
   "cell_type": "code",
   "execution_count": null,
   "metadata": {
    "id": "zznpga9k4yMX"
   },
   "outputs": [],
   "source": [
    "# Define the loss functions to be used for generator\n",
    "def generator_loss(fake_logits):\n",
    "    fake_loss = tf.reduce_mean(\n",
    "        tf.nn.sigmoid_cross_entropy_with_logits(logits=fake_logits, labels=tf.ones_like(fake_logits)))\n",
    "    return fake_loss"
   ]
  },
  {
   "cell_type": "code",
   "execution_count": null,
   "metadata": {
    "id": "nPiVZyBZ4yvC"
   },
   "outputs": [],
   "source": [
    "# build generator with pretrained decoder and embedding\n",
    "def generator_label(embedding, decoder):\n",
    "    # # Embedding model needs to be trained along with GAN training\n",
    "    # embedding.trainable = False\n",
    "\n",
    "    label = Input((1,), dtype='int32')\n",
    "    latent = Input((latent_dim,))\n",
    "\n",
    "    labeled_latent = embedding([latent, label])\n",
    "    gen_img = decoder(labeled_latent)\n",
    "    model = Model([latent, label], gen_img)\n",
    "\n",
    "    return model"
   ]
  },
  {
   "cell_type": "code",
   "execution_count": null,
   "metadata": {
    "id": "LQMzvmTL43Gn"
   },
   "outputs": [],
   "source": [
    "# Build discriminator with pre-trained Encoder\n",
    "def build_discriminator(encoder):\n",
    "\n",
    "    label = Input((1,), dtype='int32')\n",
    "    img = Input(img_size)\n",
    "\n",
    "    inter_output_model = Model(inputs=encoder.input, outputs=encoder.layers[-3].output)\n",
    "    x = inter_output_model(img)\n",
    "\n",
    "    le = Flatten()(Embedding(n_classes, 512)(label))\n",
    "    le = Dense(4 * 4 * 256)(le)\n",
    "    le = LeakyReLU(0.2)(le)\n",
    "    x_y = multiply([x, le])\n",
    "    x_y = Dense(512)(x_y)\n",
    "\n",
    "    out = Dense(1)(x_y)\n",
    "\n",
    "    model = Model(inputs=[img, label], outputs=out)\n",
    "\n",
    "    return model"
   ]
  },
  {
   "cell_type": "code",
   "execution_count": null,
   "metadata": {
    "id": "CcmSuigl46nO"
   },
   "outputs": [],
   "source": [
    "# %% ----------------------------------- Compile Models ----------------------------------------------------------------\n",
    "# d_model = build_discriminator(en)  # initialized with Encoder\n",
    "d_model = discriminator_cwgan()  # without initialization\n",
    "g_model = generator_label(em, de)  # initialized with Decoder and Embedding\n",
    "\n",
    "bagan_gp = BAGAN_GP(\n",
    "    discriminator=d_model,\n",
    "    generator=g_model,\n",
    "    latent_dim=latent_dim,\n",
    "    discriminator_extra_steps=3,\n",
    ")\n",
    "\n",
    "# Compile the model\n",
    "bagan_gp.compile(\n",
    "    d_optimizer=discriminator_optimizer,\n",
    "    g_optimizer=generator_optimizer,\n",
    "    g_loss_fn=generator_loss,\n",
    "    d_loss_fn=discriminator_loss,\n",
    ")"
   ]
  },
  {
   "cell_type": "code",
   "execution_count": null,
   "metadata": {
    "id": "hjrwo8bF5CKb"
   },
   "outputs": [],
   "source": [
    "# Record the loss\n",
    "d_loss_history = []\n",
    "g_loss_history = []\n",
    "\n",
    "############################# Start training #############################\n",
    "\n",
    "LEARNING_STEPS = 10\n",
    "for learning_step in range(LEARNING_STEPS):\n",
    "    print('LEARNING STEP # ', learning_step + 1, '-' * 50)\n",
    "    bagan_gp.fit(x_train, y_train, batch_size=128, epochs=10, verbose=True)\n",
    "    d_loss_history += bagan_gp.history.history['d_loss']\n",
    "    g_loss_history += bagan_gp.history.history['g_loss']\n",
    "    if (learning_step+1)%1 == 0:\n",
    "       plt_img(bagan_gp.generator, learning_step)\n",
    "    #     bagan_gp.discriminator.save_weights('model_full_data_ciffar10/discriminator_weight_epoch' + str(learning_step) + '.h5')\n",
    "    #     bagan_gp.generator.save_weights('model_full_data_ciffar10/generator_weight_epoch' + str(learning_step) + '.h5')\n"
   ]
  },
  {
   "cell_type": "code",
   "execution_count": null,
   "metadata": {
    "id": "BPeaslQT5VW5"
   },
   "outputs": [],
   "source": [
    "bagan_gp.discriminator.save('dis_imba_bagan_gp_ep10_no_lc.h5')\n",
    "bagan_gp.generator.save('gen_imba_bagan_gp_ep10_no_lc.h5')"
   ]
  },
  {
   "cell_type": "code",
   "execution_count": null,
   "metadata": {
    "id": "LsGD2wBuSVEC"
   },
   "outputs": [],
   "source": [
    "# d_model = discriminator_cwgan()  # without initialization\n",
    "# g_model = generator_label(em, de)  # initialized with Decoder and Embedding\n",
    "\n",
    "# d_model.load_weights('/content/discriminator_weight_step9.h5')\n",
    "# g_model.load_weights('/content/generator_weight_step9.h5')\n",
    "\n",
    "# retrain_bagan_gp = BAGAN_GP(\n",
    "#     discriminator=d_model,\n",
    "#     generator=g_model,\n",
    "#     latent_dim=latent_dim,\n",
    "#     discriminator_extra_steps=3,\n",
    "# )\n",
    "\n",
    "# # Compile the model\n",
    "# retrain_bagan_gp.compile(\n",
    "#     d_optimizer=discriminator_optimizer,\n",
    "#     g_optimizer=generator_optimizer,\n",
    "#     g_loss_fn=generator_loss,\n",
    "#     d_loss_fn=discriminator_loss,\n",
    "# )\n",
    "\n",
    "# # # Record the loss\n",
    "# # d_loss_history = []\n",
    "# # g_loss_history = []\n",
    "\n",
    "\n",
    "\n",
    "# # ############################# Start training #############################\n",
    "# # LEARNING_STEPS = 15\n",
    "# # for learning_step in range(LEARNING_STEPS):\n",
    "# #     print('LEARNING STEP # ', learning_step + 1, '-' * 50)\n",
    "# #     retrain_bagan_gp.fit(x_train, y_train, batch_size=128, epochs=10, verbose=True)\n",
    "# #     d_loss_history += retrain_bagan_gp.history.history['d_loss']\n",
    "# #     g_loss_history += retrain_bagan_gp.history.history['g_loss']\n",
    "# #     if (learning_step+1)%1 == 0:\n",
    "# #         plt_img(retrain_bagan_gp.generator, learning_step+15)\n",
    "# #         retrain_bagan_gp.discriminator.save_weights('model_full_data_ciffar10/discriminator_weight_epoch' + str(learning_step+15) + '.h5')\n",
    "# #         retrain_bagan_gp.generator.save_weights('model_full_data_ciffar10/generator_weight_epoch' + str(learning_step + 15) + '.h5')\n"
   ]
  },
  {
   "cell_type": "code",
   "execution_count": null,
   "metadata": {
    "id": "PfLEBiUs5VW6"
   },
   "outputs": [],
   "source": [
    "list_fid_scores = get_fid_score(x_test, y_test,  bagan_gp, n_classes, latent_dim)"
   ]
  },
  {
   "cell_type": "code",
   "execution_count": null,
   "metadata": {
    "id": "_1eOYlko6fbP"
   },
   "outputs": [],
   "source": [
    "# get_fid_score(x_test, y_test,  bagan_gp, n_classes, latent_dim)"
   ]
  },
  {
   "metadata": {
    "id": "xomvHcMh5VW6"
   },
   "cell_type": "code",
   "outputs": [],
   "execution_count": null,
   "source": [
    "import pandas as pd\n",
    "pd.DataFrame(list_fid_scores, columns=['Class', 'FID']).to_csv('imba_cifar10_ep10_fid_no_lc.csv',\n",
    "                                                          index=False)"
   ]
  }
 ],
 "metadata": {
  "accelerator": "GPU",
  "colab": {
   "gpuType": "T4",
   "provenance": []
  },
  "kernelspec": {
   "display_name": "Python 3",
   "name": "python3"
  },
  "language_info": {
   "codemirror_mode": {
    "name": "ipython",
    "version": 3
   },
   "file_extension": ".py",
   "mimetype": "text/x-python",
   "name": "python",
   "nbconvert_exporter": "python",
   "pygments_lexer": "ipython3",
   "version": "3.8.10"
  }
 },
 "nbformat": 4,
 "nbformat_minor": 0
}
